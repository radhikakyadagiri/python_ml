{
  "nbformat": 4,
  "nbformat_minor": 0,
  "metadata": {
    "kernelspec": {
      "display_name": "Python 3",
      "language": "python",
      "name": "python3"
    },
    "language_info": {
      "codemirror_mode": {
        "name": "ipython",
        "version": 3
      },
      "file_extension": ".py",
      "mimetype": "text/x-python",
      "name": "python",
      "nbconvert_exporter": "python",
      "pygments_lexer": "ipython3",
      "version": "3.8.3"
    },
    "colab": {
      "name": "Project Clustering Blobs.ipynb",
      "provenance": []
    }
  },
  "cells": [
    {
      "cell_type": "markdown",
      "metadata": {
        "id": "K6uszEF-tg6Q"
      },
      "source": [
        "# Unsupervised Machine Learning - KMeans\n",
        "\n",
        "Support vector machines (SVMs) are a set of supervised learning methods used for classification, regression and outliers detection. SVMs are one of the most robust prediction methods. \n",
        "\n",
        "Sources: \n",
        "[sklearn](https://scikit-learn.org/stable/modules/generated/sklearn.cluster.KMeans.html?highlight=kmeans#sklearn.cluster.KMeans), [wikipedia](https://en.wikipedia.org/wiki/K-means_clustering)"
      ]
    },
    {
      "cell_type": "markdown",
      "metadata": {
        "id": "fUB89AR6C5Br"
      },
      "source": [
        "![kmeans.png](https://www.mathworks.com/matlabcentral/mlc-downloads/downloads/submissions/52579/versions/9/screenshot.jpg)"
      ]
    },
    {
      "cell_type": "code",
      "metadata": {
        "id": "3s6IxHbEIGDC"
      },
      "source": [
        ""
      ],
      "execution_count": 5,
      "outputs": []
    },
    {
      "cell_type": "code",
      "metadata": {
        "id": "V9gxYilRIGDD"
      },
      "source": [
        "import pandas as pd\n",
        "import numpy as np\n",
        "import matplotlib.pyplot as plt\n",
        "from sklearn import datasets\n"
      ],
      "execution_count": 6,
      "outputs": []
    },
    {
      "cell_type": "code",
      "metadata": {
        "id": "5lqqqeEcIGDD"
      },
      "source": [
        "# Take make moons in built dataset\n",
        "\n",
        "data_=datasets.make_moons(50)"
      ],
      "execution_count": 48,
      "outputs": []
    },
    {
      "cell_type": "code",
      "metadata": {
        "id": "YHE_oQTCIGDE",
        "outputId": "af7eb477-b72e-4f9f-b5c1-c6c63325828e",
        "colab": {
          "base_uri": "https://localhost:8080/"
        }
      },
      "source": [
        "# check the dataset\n",
        "\n",
        "data_"
      ],
      "execution_count": 49,
      "outputs": [
        {
          "output_type": "execute_result",
          "data": {
            "text/plain": [
              "(array([[-9.91444861e-01,  1.30526192e-01],\n",
              "        [ 6.12323400e-17,  1.00000000e+00],\n",
              "        [ 1.25881905e+00, -4.65925826e-01],\n",
              "        [ 1.86602540e+00, -3.33066907e-16],\n",
              "        [ 1.79335334e+00, -1.08761429e-01],\n",
              "        [ 6.17316568e-01, -4.23879533e-01],\n",
              "        [-5.00000000e-01,  8.66025404e-01],\n",
              "        [ 8.69473808e-01, -4.91444861e-01],\n",
              "        [ 3.91238571e-01, -2.93353340e-01],\n",
              "        [ 7.93353340e-01,  6.08761429e-01],\n",
              "        [ 2.92893219e-01, -2.07106781e-01],\n",
              "        [ 2.58819045e-01,  9.65925826e-01],\n",
              "        [ 5.00000000e-01,  8.66025404e-01],\n",
              "        [ 1.70710678e+00, -2.07106781e-01],\n",
              "        [ 1.38268343e+00, -4.23879533e-01],\n",
              "        [ 9.91444861e-01,  1.30526192e-01],\n",
              "        [-9.23879533e-01,  3.82683432e-01],\n",
              "        [-9.65925826e-01,  2.58819045e-01],\n",
              "        [ 5.00000000e-01, -3.66025404e-01],\n",
              "        [ 2.00000000e+00,  5.00000000e-01],\n",
              "        [-7.93353340e-01,  6.08761429e-01],\n",
              "        [ 1.33974596e-01,  0.00000000e+00],\n",
              "        [ 1.92387953e+00,  1.17316568e-01],\n",
              "        [ 1.00000000e+00,  0.00000000e+00],\n",
              "        [-6.08761429e-01,  7.93353340e-01],\n",
              "        [-1.30526192e-01,  9.91444861e-01],\n",
              "        [-1.00000000e+00,  1.22464680e-16],\n",
              "        [-3.82683432e-01,  9.23879533e-01],\n",
              "        [ 1.13052619e+00, -4.91444861e-01],\n",
              "        [-7.07106781e-01,  7.07106781e-01],\n",
              "        [ 7.07106781e-01,  7.07106781e-01],\n",
              "        [ 0.00000000e+00,  5.00000000e-01],\n",
              "        [ 1.00000000e+00, -5.00000000e-01],\n",
              "        [ 3.82683432e-01,  9.23879533e-01],\n",
              "        [ 6.08761429e-01,  7.93353340e-01],\n",
              "        [ 1.99144486e+00,  3.69473808e-01],\n",
              "        [ 1.96592583e+00,  2.41180955e-01],\n",
              "        [ 3.40741737e-02,  2.41180955e-01],\n",
              "        [-2.58819045e-01,  9.65925826e-01],\n",
              "        [ 1.30526192e-01,  9.91444861e-01],\n",
              "        [ 1.50000000e+00, -3.66025404e-01],\n",
              "        [ 8.66025404e-01,  5.00000000e-01],\n",
              "        [ 9.23879533e-01,  3.82683432e-01],\n",
              "        [-8.66025404e-01,  5.00000000e-01],\n",
              "        [ 8.55513863e-03,  3.69473808e-01],\n",
              "        [ 7.61204675e-02,  1.17316568e-01],\n",
              "        [ 2.06646660e-01, -1.08761429e-01],\n",
              "        [ 1.60876143e+00, -2.93353340e-01],\n",
              "        [ 7.41180955e-01, -4.65925826e-01],\n",
              "        [ 9.65925826e-01,  2.58819045e-01]]),\n",
              " array([0, 0, 1, 1, 1, 1, 0, 1, 1, 0, 1, 0, 0, 1, 1, 0, 0, 0, 1, 1, 0, 1,\n",
              "        1, 0, 0, 0, 0, 0, 1, 0, 0, 1, 1, 0, 0, 1, 1, 1, 0, 0, 1, 0, 0, 0,\n",
              "        1, 1, 1, 1, 1, 0]))"
            ]
          },
          "metadata": {
            "tags": []
          },
          "execution_count": 49
        }
      ]
    },
    {
      "cell_type": "code",
      "metadata": {
        "id": "eRSFx6IrIGDF"
      },
      "source": [
        "# create input dataframe\n",
        "\n",
        "inputData = pd.DataFrame(data=data_[0])"
      ],
      "execution_count": 55,
      "outputs": []
    },
    {
      "cell_type": "code",
      "metadata": {
        "id": "VvAL1WJFIGDG",
        "outputId": "6c3abd33-4c02-427f-e2b3-6a36e3f30016",
        "colab": {
          "base_uri": "https://localhost:8080/",
          "height": 203
        }
      },
      "source": [
        "inputData.head()"
      ],
      "execution_count": 51,
      "outputs": [
        {
          "output_type": "execute_result",
          "data": {
            "text/html": [
              "<div>\n",
              "<style scoped>\n",
              "    .dataframe tbody tr th:only-of-type {\n",
              "        vertical-align: middle;\n",
              "    }\n",
              "\n",
              "    .dataframe tbody tr th {\n",
              "        vertical-align: top;\n",
              "    }\n",
              "\n",
              "    .dataframe thead th {\n",
              "        text-align: right;\n",
              "    }\n",
              "</style>\n",
              "<table border=\"1\" class=\"dataframe\">\n",
              "  <thead>\n",
              "    <tr style=\"text-align: right;\">\n",
              "      <th></th>\n",
              "      <th>0</th>\n",
              "      <th>1</th>\n",
              "    </tr>\n",
              "  </thead>\n",
              "  <tbody>\n",
              "    <tr>\n",
              "      <th>0</th>\n",
              "      <td>-9.914449e-01</td>\n",
              "      <td>1.305262e-01</td>\n",
              "    </tr>\n",
              "    <tr>\n",
              "      <th>1</th>\n",
              "      <td>6.123234e-17</td>\n",
              "      <td>1.000000e+00</td>\n",
              "    </tr>\n",
              "    <tr>\n",
              "      <th>2</th>\n",
              "      <td>1.258819e+00</td>\n",
              "      <td>-4.659258e-01</td>\n",
              "    </tr>\n",
              "    <tr>\n",
              "      <th>3</th>\n",
              "      <td>1.866025e+00</td>\n",
              "      <td>-3.330669e-16</td>\n",
              "    </tr>\n",
              "    <tr>\n",
              "      <th>4</th>\n",
              "      <td>1.793353e+00</td>\n",
              "      <td>-1.087614e-01</td>\n",
              "    </tr>\n",
              "  </tbody>\n",
              "</table>\n",
              "</div>"
            ],
            "text/plain": [
              "              0             1\n",
              "0 -9.914449e-01  1.305262e-01\n",
              "1  6.123234e-17  1.000000e+00\n",
              "2  1.258819e+00 -4.659258e-01\n",
              "3  1.866025e+00 -3.330669e-16\n",
              "4  1.793353e+00 -1.087614e-01"
            ]
          },
          "metadata": {
            "tags": []
          },
          "execution_count": 51
        }
      ]
    },
    {
      "cell_type": "code",
      "metadata": {
        "id": "JTWRMvLZIGDI",
        "outputId": "1a7ce493-b8b1-4115-b738-728e4b35edfd",
        "colab": {
          "base_uri": "https://localhost:8080/",
          "height": 203
        }
      },
      "source": [
        "# create output dataframe\n",
        "\n",
        "outputData = pd.DataFrame(data=data_[1])\n",
        "outputData.head()"
      ],
      "execution_count": 54,
      "outputs": [
        {
          "output_type": "execute_result",
          "data": {
            "text/html": [
              "<div>\n",
              "<style scoped>\n",
              "    .dataframe tbody tr th:only-of-type {\n",
              "        vertical-align: middle;\n",
              "    }\n",
              "\n",
              "    .dataframe tbody tr th {\n",
              "        vertical-align: top;\n",
              "    }\n",
              "\n",
              "    .dataframe thead th {\n",
              "        text-align: right;\n",
              "    }\n",
              "</style>\n",
              "<table border=\"1\" class=\"dataframe\">\n",
              "  <thead>\n",
              "    <tr style=\"text-align: right;\">\n",
              "      <th></th>\n",
              "      <th>0</th>\n",
              "    </tr>\n",
              "  </thead>\n",
              "  <tbody>\n",
              "    <tr>\n",
              "      <th>0</th>\n",
              "      <td>0</td>\n",
              "    </tr>\n",
              "    <tr>\n",
              "      <th>1</th>\n",
              "      <td>0</td>\n",
              "    </tr>\n",
              "    <tr>\n",
              "      <th>2</th>\n",
              "      <td>1</td>\n",
              "    </tr>\n",
              "    <tr>\n",
              "      <th>3</th>\n",
              "      <td>1</td>\n",
              "    </tr>\n",
              "    <tr>\n",
              "      <th>4</th>\n",
              "      <td>1</td>\n",
              "    </tr>\n",
              "  </tbody>\n",
              "</table>\n",
              "</div>"
            ],
            "text/plain": [
              "   0\n",
              "0  0\n",
              "1  0\n",
              "2  1\n",
              "3  1\n",
              "4  1"
            ]
          },
          "metadata": {
            "tags": []
          },
          "execution_count": 54
        }
      ]
    },
    {
      "cell_type": "code",
      "metadata": {
        "id": "gtvIo2RKIGDJ",
        "outputId": "87ff4ee0-4c40-412c-8cf3-773aa205f375",
        "colab": {
          "base_uri": "https://localhost:8080/",
          "height": 282
        }
      },
      "source": [
        "# create a scatter plot for inputData set\n",
        "\n",
        "plt.scatter(inputData[0],inputData[1],)"
      ],
      "execution_count": 57,
      "outputs": [
        {
          "output_type": "execute_result",
          "data": {
            "text/plain": [
              "<matplotlib.collections.PathCollection at 0x7ff5b28a4f10>"
            ]
          },
          "metadata": {
            "tags": []
          },
          "execution_count": 57
        },
        {
          "output_type": "display_data",
          "data": {
            "image/png": "[encoded data removed]",
            "text/plain": [
              "<Figure size 432x288 with 1 Axes>"
            ]
          },
          "metadata": {
            "tags": [],
            "needs_background": "light"
          }
        }
      ]
    },
    {
      "cell_type": "code",
      "metadata": {
        "id": "xzS4s5hTIGDK",
        "outputId": "6972b7aa-3411-4c4b-8d52-e86163c05290",
        "colab": {
          "base_uri": "https://localhost:8080/",
          "height": 282
        }
      },
      "source": [
        "# create a scatter plot for inputData set with outputData color\n",
        "\n",
        "plt.scatter(inputData[0],inputData[1],c=outputData)"
      ],
      "execution_count": 65,
      "outputs": [
        {
          "output_type": "execute_result",
          "data": {
            "text/plain": [
              "<matplotlib.collections.PathCollection at 0x7ff5b2706f10>"
            ]
          },
          "metadata": {
            "tags": []
          },
          "execution_count": 65
        },
        {
          "output_type": "display_data",
          "data": {
            "image/png": "[encoded data removed]",
            "text/plain": [
              "<Figure size 432x288 with 1 Axes>"
            ]
          },
          "metadata": {
            "tags": [],
            "needs_background": "light"
          }
        }
      ]
    },
    {
      "cell_type": "code",
      "metadata": {
        "id": "M3_TfCHXIGDL"
      },
      "source": [
        "\n",
        "from sklearn import metrics"
      ],
      "execution_count": 80,
      "outputs": []
    },
    {
      "cell_type": "code",
      "metadata": {
        "id": "IlgenF6VIGDL",
        "outputId": "4b7b633a-4b0e-479b-d10b-1a89c0520e00",
        "colab": {
          "base_uri": "https://localhost:8080/"
        }
      },
      "source": [
        "# Call the sklearn Kmeans and make a model with 200 samples\n",
        "\n",
        "#model_fit\n",
        "from sklearn.cluster import KMeans\n",
        "\n",
        "model=KMeans(n_clusters=5)\n",
        "model.fit(inputData)\n"
      ],
      "execution_count": 81,
      "outputs": [
        {
          "output_type": "execute_result",
          "data": {
            "text/plain": [
              "KMeans(algorithm='auto', copy_x=True, init='k-means++', max_iter=300,\n",
              "       n_clusters=5, n_init=10, n_jobs=None, precompute_distances='auto',\n",
              "       random_state=None, tol=0.0001, verbose=0)"
            ]
          },
          "metadata": {
            "tags": []
          },
          "execution_count": 81
        }
      ]
    },
    {
      "cell_type": "code",
      "metadata": {
        "id": "dQxPm2WiIGDM",
        "outputId": "566bbd20-5679-4585-caff-72048e75ae74",
        "colab": {
          "base_uri": "https://localhost:8080/"
        }
      },
      "source": [
        "# check for labels\n",
        "model.labels_\n"
      ],
      "execution_count": 75,
      "outputs": [
        {
          "output_type": "execute_result",
          "data": {
            "text/plain": [
              "array([1, 4, 3, 2, 2, 3, 4, 3, 3, 0, 3, 4, 0, 2, 2, 0, 1, 1, 3, 2, 1, 3,\n",
              "       2, 3, 1, 4, 1, 4, 3, 1, 0, 4, 3, 4, 0, 2, 2, 4, 4, 4, 2, 0, 0, 1,\n",
              "       4, 4, 3, 2, 3, 0], dtype=int32)"
            ]
          },
          "metadata": {
            "tags": []
          },
          "execution_count": 75
        }
      ]
    },
    {
      "cell_type": "code",
      "metadata": {
        "id": "H-zE7M7lIGDM"
      },
      "source": [
        ""
      ],
      "execution_count": null,
      "outputs": []
    },
    {
      "cell_type": "code",
      "metadata": {
        "id": "22fBru-tIGDN",
        "outputId": "88b22899-4a1b-4fc0-8b49-94d568fdb988",
        "colab": {
          "base_uri": "https://localhost:8080/",
          "height": 282
        }
      },
      "source": [
        "# call metrics and check silhoutte score\n",
        "plt.scatter(inputData[0],inputData[1],c =model.labels_)\n"
      ],
      "execution_count": 82,
      "outputs": [
        {
          "output_type": "execute_result",
          "data": {
            "text/plain": [
              "<matplotlib.collections.PathCollection at 0x7ff5b2556710>"
            ]
          },
          "metadata": {
            "tags": []
          },
          "execution_count": 82
        },
        {
          "output_type": "display_data",
          "data": {
            "image/png": "[encoded data removed]",
            "text/plain": [
              "<Figure size 432x288 with 1 Axes>"
            ]
          },
          "metadata": {
            "tags": [],
            "needs_background": "light"
          }
        }
      ]
    },
    {
      "cell_type": "code",
      "metadata": {
        "id": "RR6CaZ1PIGDN"
      },
      "source": [
        "# create a scatter plot for inputData set with model labels color\n",
        "\n"
      ],
      "execution_count": 77,
      "outputs": []
    },
    {
      "cell_type": "markdown",
      "metadata": {
        "id": "_wbZtm1IIGDO"
      },
      "source": [
        "#### finding right number of cluster"
      ]
    },
    {
      "cell_type": "code",
      "metadata": {
        "id": "ncq-IdIgIGDO"
      },
      "source": [
        "cluster_range = range(1, 20)\n",
        "error_list = []\n",
        "\n",
        "for i in cluster_range:\n",
        "    model = KMeans(n_clusters=i)\n",
        "    model.fit(inputData)\n",
        "    res = model.inertia_\n",
        "    error_list.append(res)"
      ],
      "execution_count": 78,
      "outputs": []
    },
    {
      "cell_type": "code",
      "metadata": {
        "id": "eYfIL5LfIGDO",
        "outputId": "599d6429-e795-4a58-e70e-8d88b13d24d6",
        "colab": {
          "base_uri": "https://localhost:8080/",
          "height": 295
        }
      },
      "source": [
        "import matplotlib.pyplot as plt\n",
        "\n",
        "plt.plot(cluster_range, error_list, marker = \"o\", color = \"g\", markersize = 10)\n",
        "plt.xlabel(\"Cluster Range\")\n",
        "plt.ylabel(\"IntraCluster Sum\")\n",
        "plt.title(\"KMeans\")\n",
        "plt.show()"
      ],
      "execution_count": 79,
      "outputs": [
        {
          "output_type": "display_data",
          "data": {
            "image/png": "[encoded data removed]",
            "text/plain": [
              "<Figure size 432x288 with 1 Axes>"
            ]
          },
          "metadata": {
            "tags": [],
            "needs_background": "light"
          }
        }
      ]
    },
    {
      "cell_type": "code",
      "metadata": {
        "id": "WsFvVEv3IGDP"
      },
      "source": [
        ""
      ],
      "execution_count": null,
      "outputs": []
    },
    {
      "cell_type": "code",
      "metadata": {
        "id": "6wJbacIwIGDP"
      },
      "source": [
        ""
      ],
      "execution_count": null,
      "outputs": []
    }
  ]
}